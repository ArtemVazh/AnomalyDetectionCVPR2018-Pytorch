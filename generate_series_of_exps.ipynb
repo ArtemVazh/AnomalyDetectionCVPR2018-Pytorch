{
 "cells": [
  {
   "cell_type": "code",
   "execution_count": 2,
   "metadata": {},
   "outputs": [],
   "source": [
    "import copy\n",
    "import itertools as it\n",
    "import numpy as np\n",
    "import yaml\n",
    "import os\n",
    "\n",
    "def expand_config(dict_config):\n",
    "    keys, values = zip(*dict_config.items())\n",
    "    permutations_dicts = [dict(zip(keys, v)) for v in it.product(*values)]\n",
    "    return permutations_dicts"
   ]
  },
  {
   "cell_type": "code",
   "execution_count": 2,
   "metadata": {},
   "outputs": [],
   "source": [
    "def generate_str_config(config):\n",
    "    config_list = []\n",
    "    \n",
    "    lr = config['lr_base']\n",
    "    epochs = config['epochs']\n",
    "    output_dim = config['output_dim']\n",
    "    dropout_rate = config['dropout_rate']\n",
    "    lambdas = config['lambdas']\n",
    "    top_anomaly_frames = config['top_anomaly_frames']\n",
    "    top_normal_frames = config['top_normal_frames']\n",
    "    margin = config['margin']\n",
    "    optimizer = config['optimizer']\n",
    "    seed = config['seed']\n",
    "    \n",
    "    config_list.append(f'--lr_base {lr}')\n",
    "    config_list.append(f'--epochs {epochs}')\n",
    "    config_list.append(f'--output_dim {output_dim}')\n",
    "    config_list.append(f'--dropout_rate {dropout_rate}')\n",
    "    config_list.append(f'--lambdas {lambdas}')\n",
    "    config_list.append(f'--top_anomaly_frames {top_anomaly_frames}')\n",
    "    config_list.append(f'--top_normal_frames {top_normal_frames}')\n",
    "    config_list.append(f'--margin {margin}')\n",
    "    config_list.append(f'--optimizer {optimizer}')\n",
    "    \n",
    "    config_list.append(f\"--exps_dir 'exps/grid_search/triplet_{optimizer}_{dropout_rate}_{lambdas}_{top_anomaly_frames}_{top_normal_frames}_{margin}/{seed}/'\")\n",
    "    \n",
    "    return config_list\n",
    "\n",
    "def generate_bash_script(config, cuda_devices, generate_func, filename):\n",
    "    n_gpus = len(cuda_devices)\n",
    "    full_config = 'cd ..'\n",
    "    for grid_iter, conf in enumerate(expand_config(config)):\n",
    "        base_arg = f\"CUDA_VISIBLE_DEVICES={cuda_devices[grid_iter%n_gpus]} python TrainingAnomalyDetector_public.py --features_path 'data/anomaly_features' --annotation_path 'Train_Annotation.txt' --network_name 'TripletAnomalyDetector' --objective_name 'triplet_objective_sampling'\"\n",
    "\n",
    "        new_task = copy.deepcopy(base_arg)\n",
    "        \n",
    "        res_config = generate_func(conf)\n",
    "        args = ' '.join(res_config)\n",
    "        new_task += ' '+args\n",
    "        \n",
    "        if (grid_iter+1)%n_gpus!=0: \n",
    "            new_task += ' &'\n",
    "        else:\n",
    "            new_task += '\\nwait'\n",
    "        full_config += '\\n' + new_task if len(full_config) else new_task\n",
    "    print(len(expand_config(config)))\n",
    "    with open (f'./scripts/{filename}', 'w') as rsh:\n",
    "        rsh.write(full_config)"
   ]
  },
  {
   "cell_type": "code",
   "execution_count": 12,
   "metadata": {},
   "outputs": [
    {
     "name": "stdout",
     "output_type": "stream",
     "text": [
      "192\n"
     ]
    }
   ],
   "source": [
    "configs = {\n",
    "    'lr_base': [0.01],\n",
    "    'epochs': [20],\n",
    "    'output_dim': [128],\n",
    "    'dropout_rate': [0.1, 0.5],\n",
    "    'lambdas': [8e-5, 8e-3],\n",
    "    'top_anomaly_frames': [3, 5],\n",
    "    'top_normal_frames': [3, 5],\n",
    "    'margin': [0.02, 0.2],\n",
    "    'optimizer': ['adam', 'adadelta'],\n",
    "    'seed': [42, 77, 81911]\n",
    "}\n",
    "    \n",
    "cuda_devices = [0,1,2]*2\n",
    "\n",
    "generate_bash_script(configs, cuda_devices, generate_str_config, 'grid_search.sh')"
   ]
  },
  {
   "cell_type": "markdown",
   "metadata": {},
   "source": [
    "# SimCLR"
   ]
  },
  {
   "cell_type": "code",
   "execution_count": 3,
   "metadata": {},
   "outputs": [],
   "source": [
    "def generate_str_config(config):\n",
    "    config_list = []\n",
    "    \n",
    "    lr = config['lr_base']\n",
    "    epochs = config['epochs']\n",
    "    lambdas = config['lambdas']\n",
    "    optimizer = config['optimizer']\n",
    "    seed = config['seed']\n",
    "    dropout_rate = config['dropout_rate']\n",
    "    batch_size = config['batch_size']\n",
    "    \n",
    "    config_list.append(f'--lr_base {lr}')\n",
    "    config_list.append(f'--epochs {epochs}')\n",
    "    config_list.append(f'--dropout_rate {dropout_rate}')\n",
    "    config_list.append(f'--lambdas {lambdas}')\n",
    "    config_list.append(f'--optimizer {optimizer}')\n",
    "    config_list.append(f'--batch_size {batch_size}')\n",
    "    \n",
    "    config_list.append(f\"--exps_dir 'exps/SimCLR_grid_search/{optimizer}_{lr}_{batch_size}/'\")\n",
    "    \n",
    "    return config_list\n",
    "\n",
    "def generate_bash_script(config, cuda_devices, generate_func, filename):\n",
    "    n_gpus = len(cuda_devices)\n",
    "    full_config = 'cd ..'\n",
    "    for grid_iter, conf in enumerate(expand_config(config)):\n",
    "        base_arg = f\"CUDA_VISIBLE_DEVICES={cuda_devices[grid_iter%n_gpus]} python TrainingAnomalyDetector_SimCLR.py  --features_path_1 'features1' --features_path_2 'features2' --objective_name 'SimCLRLoss' --network_name 'TripletAnomalyDetector' --annotation_path 'Train_Annotation.txt'\"\n",
    "\n",
    "        new_task = copy.deepcopy(base_arg)\n",
    "        \n",
    "        res_config = generate_func(conf)\n",
    "        args = ' '.join(res_config)\n",
    "        new_task += ' '+args\n",
    "        \n",
    "        if (grid_iter+1)%n_gpus!=0: \n",
    "            new_task += ' &'\n",
    "        else:\n",
    "            new_task += '\\nwait'\n",
    "        full_config += '\\n' + new_task if len(full_config) else new_task\n",
    "    print(len(expand_config(config)))\n",
    "    with open (f'./scripts/{filename}', 'w') as rsh:\n",
    "        rsh.write(full_config)"
   ]
  },
  {
   "cell_type": "code",
   "execution_count": 4,
   "metadata": {},
   "outputs": [
    {
     "name": "stdout",
     "output_type": "stream",
     "text": [
      "12\n"
     ]
    }
   ],
   "source": [
    "configs = {\n",
    "    'lr_base': [0.01, 0.001],\n",
    "    'epochs': [5],\n",
    "    'batch_size': [64, 128, 256],\n",
    "    'dropout_rate': [0.5],\n",
    "    'lambdas': [8e-5],\n",
    "    'optimizer': ['adam', 'adadelta'],\n",
    "    'seed': [42]\n",
    "}\n",
    "    \n",
    "cuda_devices = [0,1,2,3,4,5]\n",
    "\n",
    "generate_bash_script(configs, cuda_devices, generate_str_config, 'SimCLR_grid_search.sh')"
   ]
  },
  {
   "cell_type": "code",
   "execution_count": null,
   "metadata": {},
   "outputs": [],
   "source": []
  },
  {
   "cell_type": "code",
   "execution_count": null,
   "metadata": {},
   "outputs": [],
   "source": []
  }
 ],
 "metadata": {
  "kernelspec": {
   "display_name": "Python 3 (ipykernel)",
   "language": "python",
   "name": "python3"
  },
  "language_info": {
   "codemirror_mode": {
    "name": "ipython",
    "version": 3
   },
   "file_extension": ".py",
   "mimetype": "text/x-python",
   "name": "python",
   "nbconvert_exporter": "python",
   "pygments_lexer": "ipython3",
   "version": "3.7.12"
  }
 },
 "nbformat": 4,
 "nbformat_minor": 4
}
