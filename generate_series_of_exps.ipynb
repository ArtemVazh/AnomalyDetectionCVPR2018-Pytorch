{
 "cells": [
  {
   "cell_type": "code",
   "execution_count": 1,
   "metadata": {},
   "outputs": [],
   "source": [
    "import copy\n",
    "import itertools as it\n",
    "import numpy as np\n",
    "import yaml\n",
    "import os\n",
    "\n",
    "def expand_config(dict_config):\n",
    "    keys, values = zip(*dict_config.items())\n",
    "    permutations_dicts = [dict(zip(keys, v)) for v in it.product(*values)]\n",
    "    return permutations_dicts"
   ]
  },
  {
   "cell_type": "code",
   "execution_count": 32,
   "metadata": {},
   "outputs": [],
   "source": [
    "def generate_str_config(config):\n",
    "    config_list = []\n",
    "    \n",
    "    lr = config['lr_base']\n",
    "    epochs = config['epochs']\n",
    "    output_dim = config['output_dim']\n",
    "    dropout_rate = config['dropout_rate']\n",
    "    lambdas = config['lambdas']\n",
    "    top_anomaly_frames = config['top_anomaly_frames']\n",
    "    top_normal_frames = config['top_normal_frames']\n",
    "    margin = config['margin']\n",
    "    \n",
    "    config_list.append(f'--lr_base {lr}')\n",
    "    config_list.append(f'--epochs {epochs}')\n",
    "    config_list.append(f'--output_dim {output_dim}')\n",
    "    config_list.append(f'--dropout_rate {dropout_rate}')\n",
    "    config_list.append(f'--lambdas {lambdas}')\n",
    "    config_list.append(f'--top_anomaly_frames {top_anomaly_frames}')\n",
    "    config_list.append(f'--top_normal_frames {top_normal_frames}')\n",
    "    config_list.append(f'--margin {margin}')\n",
    "    \n",
    "    config_list.append(f\"--exps_dir 'exps/grid_search/triplet_{lr}_{epochs}_{output_dim}_{dropout_rate}_{lambdas}_{top_anomaly_frames}_{top_normal_frames}_{margin}'\")\n",
    "    \n",
    "    return config_list\n",
    "\n",
    "def generate_bash_script(config, cuda_devices, generate_func, filename):\n",
    "    n_gpus = len(cuda_devices)\n",
    "    full_config = 'cd ..'\n",
    "    for grid_iter, conf in enumerate(expand_config(config)):\n",
    "        base_arg = f\"CUDA_VISIBLE_DEVICES={cuda_devices[grid_iter%n_gpus]} python TrainingAnomalyDetector_public.py --features_path 'data/anomaly_features' --annotation_path 'Train_Annotation.txt' --network_name 'TripletAnomalyDetector' --objective_name 'triplet_objective_sampling'\"\n",
    "\n",
    "        new_task = copy.deepcopy(base_arg)\n",
    "        \n",
    "        res_config = generate_func(conf)\n",
    "        args = ' '.join(res_config)\n",
    "        new_task += ' '+args\n",
    "        \n",
    "        if (grid_iter+1)%n_gpus!=0: \n",
    "            new_task += ' &'\n",
    "        else:\n",
    "            new_task += '\\nwait'\n",
    "        full_config += '\\n' + new_task if len(full_config) else new_task\n",
    "\n",
    "    with open (f'./scripts/{filename}', 'w') as rsh:\n",
    "        rsh.write(full_config)"
   ]
  },
  {
   "cell_type": "code",
   "execution_count": 33,
   "metadata": {},
   "outputs": [],
   "source": [
    "configs = {\n",
    "    'lr_base': [0.01, 0.001],\n",
    "    'epochs': [2, 4, 6],\n",
    "    'output_dim': [128, 256],\n",
    "    'dropout_rate': [0.1, 0.5],\n",
    "    'lambdas': [8e-5, 8e-3],\n",
    "    'top_anomaly_frames': [3, 5, 10],\n",
    "    'top_normal_frames': [3, 5, 10],\n",
    "    'margin': [0.02, 0.2, 2]\n",
    "}\n",
    "    \n",
    "cuda_devices = [1, 3, 7]\n",
    "\n",
    "generate_bash_script(configs, cuda_devices, generate_str_config, 'grid_search.sh')"
   ]
  },
  {
   "cell_type": "code",
   "execution_count": null,
   "metadata": {},
   "outputs": [],
   "source": []
  },
  {
   "cell_type": "code",
   "execution_count": null,
   "metadata": {},
   "outputs": [],
   "source": []
  }
 ],
 "metadata": {
  "kernelspec": {
   "display_name": "Python 3",
   "language": "python",
   "name": "python3"
  },
  "language_info": {
   "codemirror_mode": {
    "name": "ipython",
    "version": 3
   },
   "file_extension": ".py",
   "mimetype": "text/x-python",
   "name": "python",
   "nbconvert_exporter": "python",
   "pygments_lexer": "ipython3",
   "version": "3.7.4"
  }
 },
 "nbformat": 4,
 "nbformat_minor": 4
}
